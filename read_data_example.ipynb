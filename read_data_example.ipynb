{
 "cells": [
  {
   "cell_type": "code",
   "execution_count": 1,
   "metadata": {},
   "outputs": [
    {
     "name": "stderr",
     "output_type": "stream",
     "text": [
      "/home/shl968/.conda/envs/HTAN_env/lib/python3.8/site-packages/tqdm/auto.py:22: TqdmWarning: IProgress not found. Please update jupyter and ipywidgets. See https://ipywidgets.readthedocs.io/en/stable/user_install.html\n",
      "  from .autonotebook import tqdm as notebook_tqdm\n"
     ]
    }
   ],
   "source": [
    "import glob \n",
    "from os.path import join, basename, dirname\n",
    "import pickle\n",
    "import os\n",
    "import pandas as pd\n",
    "import h5py\n",
    "import torch\n",
    "from typing import List, Dict, Any, Tuple,Literal"
   ]
  },
  {
   "cell_type": "markdown",
   "metadata": {},
   "source": [
    "### pick a h5 file as example"
   ]
  },
  {
   "cell_type": "code",
   "execution_count": 2,
   "metadata": {},
   "outputs": [],
   "source": [
    "file = '/n/data2/hms/dbmi/kyu/lab/yih796/feature_datasets/TMA_224Stride112_max500_Q0.95_Zoom20X/TMA_303_B-4.tiff.h5'\n",
    "# file = files[0]\n",
    "# file"
   ]
  },
  {
   "cell_type": "markdown",
   "metadata": {},
   "source": [
    "### the H5 file has the following info:\n",
    "- Features from different foundation models (for now I included these 4. We may start with CHIEF):\n",
    "    - CHIEF_features\n",
    "    - CTRANS_features\n",
    "    - GIGAPATH_features\n",
    "    - UNI_features\n",
    "- metadata (not needed for now)"
   ]
  },
  {
   "cell_type": "code",
   "execution_count": 6,
   "metadata": {},
   "outputs": [
    {
     "name": "stdout",
     "output_type": "stream",
     "text": [
      "TMA_303_B-4.tiff.h5 contains the following keys:\n",
      "-\tCHIEF_features\n",
      "-\tCTRANS_features\n",
      "-\tGIGAPATH_features\n",
      "-\tUNI_features\n",
      "-\tmetadata\n"
     ]
    }
   ],
   "source": [
    "## Just showing you the contents of the file\n",
    "with h5py.File(file, 'r') as f:\n",
    "    ## List all groups\n",
    "    print(f\"{basename(file)} contains the following keys:\")\n",
    "    for key in f.keys():\n",
    "        print(f\"-\\t{key}\")\n",
    "    # print(\"Keys: %s\" % f.keys())\n",
    "    models = [\"CHIEF\",'CTRANS','GIGAPATH','UNI']"
   ]
  },
  {
   "cell_type": "markdown",
   "metadata": {},
   "source": [
    "#### Here is a function for reading features from a h5 file.\n",
    "You can use this function when writing your pytorch dataset"
   ]
  },
  {
   "cell_type": "code",
   "execution_count": null,
   "metadata": {},
   "outputs": [],
   "source": [
    "\n",
    "def read_features_from_h5(file, model: Literal[\"CHIEF\",'CTRANS','GIGAPATH','UNI']):\n",
    "    dataset_name = f\"{model}_features\"\n",
    "    \n",
    "    with h5py.File(file, 'r') as h5f:\n",
    "        features = torch.from_numpy(h5f[dataset_name][()])\n",
    "    return features\n"
   ]
  },
  {
   "cell_type": "markdown",
   "metadata": {},
   "source": [
    "An example: reading the CHIEF features from the h5 file of a slide.\n",
    "\n",
    "The feature is shapes as: [num_tiles] x [feature_dimension]"
   ]
  },
  {
   "cell_type": "code",
   "execution_count": 13,
   "metadata": {},
   "outputs": [
    {
     "data": {
      "text/plain": [
       "torch.Size([690, 768])"
      ]
     },
     "execution_count": 13,
     "metadata": {},
     "output_type": "execute_result"
    }
   ],
   "source": [
    "features = read_features_from_h5(file, 'CHIEF')\n",
    "features.shape\n"
   ]
  },
  {
   "cell_type": "code",
   "execution_count": 14,
   "metadata": {},
   "outputs": [
    {
     "data": {
      "text/plain": [
       "torch.Size([690, 1536])"
      ]
     },
     "execution_count": 14,
     "metadata": {},
     "output_type": "execute_result"
    }
   ],
   "source": [
    "# GIGAPATH\n",
    "features = read_features_from_h5(file, 'GIGAPATH')\n",
    "features.shape"
   ]
  },
  {
   "cell_type": "code",
   "execution_count": 15,
   "metadata": {},
   "outputs": [
    {
     "data": {
      "text/plain": [
       "torch.Size([690, 1024])"
      ]
     },
     "execution_count": 15,
     "metadata": {},
     "output_type": "execute_result"
    }
   ],
   "source": [
    "# UNI\n",
    "features = read_features_from_h5(file, 'UNI')\n",
    "features.shape"
   ]
  }
 ],
 "metadata": {
  "kernelspec": {
   "display_name": "moe",
   "language": "python",
   "name": "python3"
  },
  "language_info": {
   "codemirror_mode": {
    "name": "ipython",
    "version": 3
   },
   "file_extension": ".py",
   "mimetype": "text/x-python",
   "name": "python",
   "nbconvert_exporter": "python",
   "pygments_lexer": "ipython3",
   "version": "3.8.13"
  }
 },
 "nbformat": 4,
 "nbformat_minor": 2
}
